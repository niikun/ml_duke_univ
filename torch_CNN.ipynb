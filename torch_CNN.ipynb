{
  "nbformat": 4,
  "nbformat_minor": 0,
  "metadata": {
    "colab": {
      "provenance": [],
      "gpuType": "T4",
      "authorship_tag": "ABX9TyO1icohsJ7QIV73cIWJS3Wv",
      "include_colab_link": true
    },
    "kernelspec": {
      "name": "python3",
      "display_name": "Python 3"
    },
    "language_info": {
      "name": "python"
    },
    "accelerator": "GPU"
  },
  "cells": [
    {
      "cell_type": "markdown",
      "metadata": {
        "id": "view-in-github",
        "colab_type": "text"
      },
      "source": [
        "<a href=\"https://colab.research.google.com/github/niikun/ml_duke_univ/blob/main/torch_CNN.ipynb\" target=\"_parent\"><img src=\"https://colab.research.google.com/assets/colab-badge.svg\" alt=\"Open In Colab\"/></a>"
      ]
    },
    {
      "cell_type": "code",
      "execution_count": 1,
      "metadata": {
        "id": "k2lAfFl1u4LN"
      },
      "outputs": [],
      "source": [
        "import torch\n",
        "import torch.nn as nn\n",
        "import torch.nn.functional as F\n",
        "import matplotlib.pyplot as plt\n",
        "import numpy as np"
      ]
    },
    {
      "cell_type": "code",
      "source": [
        "classes = {\n",
        "    0: \"L\",\n",
        "    1: \"O\",\n",
        "    2: \"V\",\n",
        "    3: \"E\"\n",
        "}"
      ],
      "metadata": {
        "id": "CdHn_mXvvDI2"
      },
      "execution_count": 2,
      "outputs": []
    },
    {
      "cell_type": "code",
      "source": [
        "X = torch.tensor([\n",
        "    [[1, 0, 0, 0, 0],\n",
        "     [1, 0, 0, 0, 0],\n",
        "     [1, 0, 0, 0, 0],\n",
        "     [1, 0, 0, 0, 0],\n",
        "     [1, 1, 1, 1, 1]],\n",
        "    [[1, 1, 1, 1, 1],\n",
        "     [1, 0, 0, 0, 1],\n",
        "     [1, 0, 0, 0, 1],\n",
        "     [1, 0, 0, 0, 1],\n",
        "     [1, 1, 1, 1, 1]],\n",
        "    [[1, 0, 0, 0, 1],\n",
        "     [1, 0, 0, 0, 1],\n",
        "     [1, 0, 0, 0, 1],\n",
        "     [0, 1, 0, 1, 0],\n",
        "     [0, 0, 1, 0, 0]],\n",
        "    [[1, 1, 1, 1, 1],\n",
        "     [1, 0, 0, 0, 0],\n",
        "     [1, 1, 1, 1, 1],\n",
        "     [1, 0, 0, 0, 0],\n",
        "     [1, 1, 1, 1, 1]]\n",
        "],dtype=torch.float)"
      ],
      "metadata": {
        "id": "M44pQc4JvDFp"
      },
      "execution_count": 3,
      "outputs": []
    },
    {
      "cell_type": "code",
      "source": [
        "y = torch.tensor([0,1,2,3])"
      ],
      "metadata": {
        "id": "7Mx0QF2GnVNP"
      },
      "execution_count": 4,
      "outputs": []
    },
    {
      "cell_type": "code",
      "source": [
        "class CNN(nn.Module):\n",
        "    def __init__(self):\n",
        "        super().__init__()\n",
        "        self.conv1 = nn.Conv2d(in_channels=1, out_channels=6,kernel_size=2,stride=1,padding=1)\n",
        "        self.conv2 = nn.Conv2d(in_channels=6, out_channels=6,kernel_size=2,stride=1,padding=1)\n",
        "        self.conv3 = nn.Conv2d(in_channels=6, out_channels=1,kernel_size=2,stride=1,padding=1)\n",
        "        self._to_linear = None\n",
        "        x = torch.randn(5,5).view(-1,1,5,5)\n",
        "        self.convs(x)\n",
        "        self.fc1 = nn.Linear(self._to_linear,16)\n",
        "        self.fc2 = nn.Linear(16,16)\n",
        "        self.fc3 = nn.Linear(16,4)\n",
        "\n",
        "    def convs(self,x):\n",
        "        x = F.max_pool2d(self.conv1(x),(2,2))\n",
        "        x = F.max_pool2d(self.conv2(x),(2,2))\n",
        "        x = F.max_pool2d(self.conv3(x),(2,2))\n",
        "        if self._to_linear is None:\n",
        "            self._to_linear = x.shape[1]*x.shape[2]*x.shape[3]\n",
        "        return x\n",
        "\n",
        "    def forward(self,x):\n",
        "        x = self.convs(x)\n",
        "        # print(self._to_linear)\n",
        "        x = x.view(-1,self._to_linear)\n",
        "        x = F.relu(self.fc1(x))\n",
        "        x = F.relu(self.fc2(x))\n",
        "        x = F.dropout(x,p=0.1)\n",
        "        x = self.fc3(x)\n",
        "        return x\n"
      ],
      "metadata": {
        "id": "u_pWB0H7vDCW"
      },
      "execution_count": 5,
      "outputs": []
    },
    {
      "cell_type": "code",
      "source": [
        "net = CNN()"
      ],
      "metadata": {
        "id": "GROSj3iKv_63"
      },
      "execution_count": 6,
      "outputs": []
    },
    {
      "cell_type": "code",
      "source": [
        "net(X[0].view(-1,1,5,5))"
      ],
      "metadata": {
        "colab": {
          "base_uri": "https://localhost:8080/"
        },
        "id": "9CnjHW3TwMaq",
        "outputId": "3fc73faf-8704-4556-c405-8871f21f1c54"
      },
      "execution_count": 7,
      "outputs": [
        {
          "output_type": "execute_result",
          "data": {
            "text/plain": [
              "tensor([[-0.5709,  0.1222,  0.3027,  0.2314]], grad_fn=<AddmmBackward0>)"
            ]
          },
          "metadata": {},
          "execution_count": 7
        }
      ]
    },
    {
      "cell_type": "code",
      "source": [],
      "metadata": {
        "id": "mrx5XpgyllKG"
      },
      "execution_count": 7,
      "outputs": []
    },
    {
      "cell_type": "code",
      "source": [
        "import torch.optim as optim\n",
        "loss_func = nn.CrossEntropyLoss()\n",
        "\n",
        "optimizer = optim.Adam(net.parameters(),lr=0.01)\n",
        "max_epochs = 100"
      ],
      "metadata": {
        "id": "YhjRVeUohY_i"
      },
      "execution_count": 8,
      "outputs": []
    },
    {
      "cell_type": "code",
      "source": [
        "losses=[]\n",
        "for epoch in range(max_epochs):\n",
        "    optimizer.zero_grad()\n",
        "    output = net(X.view(-1,1,5,5))\n",
        "    loss = loss_func(output,y)\n",
        "    loss.backward()\n",
        "    optimizer.step()\n",
        "    losses.append(loss.item())\n"
      ],
      "metadata": {
        "collapsed": true,
        "id": "EYwEPKRrlNVg"
      },
      "execution_count": 9,
      "outputs": []
    },
    {
      "cell_type": "code",
      "source": [
        "plt.plot(losses)"
      ],
      "metadata": {
        "colab": {
          "base_uri": "https://localhost:8080/",
          "height": 448
        },
        "id": "Y0ue7OMunI-g",
        "outputId": "110df2bf-19f8-4442-9db2-d33827b98c70"
      },
      "execution_count": 10,
      "outputs": [
        {
          "output_type": "execute_result",
          "data": {
            "text/plain": [
              "[<matplotlib.lines.Line2D at 0x7824c1b8ae00>]"
            ]
          },
          "metadata": {},
          "execution_count": 10
        },
        {
          "output_type": "display_data",
          "data": {
            "text/plain": [
              "<Figure size 640x480 with 1 Axes>"
            ],
            "image/png": "[encoded data removed]"
          },
          "metadata": {}
        }
      ]
    },
    {
      "cell_type": "code",
      "source": [
        "l =torch.Tensor([[[1, 0, 0, 0, 0],\n",
        "     [1, 0, 0, 0, 0],\n",
        "     [1, 0, 0, 0, 0],\n",
        "     [1, 0, 0, 0, 0],\n",
        "     [1, 1, 1, 1, 1]]])\n",
        "\n",
        "o = torch.Tensor([[[1, 1, 1, 1, 1],\n",
        "     [1, 0, 0, 0, 1],\n",
        "     [1, 0, 0, 0, 1],\n",
        "     [1, 0, 0, 0, 1],\n",
        "     [1, 1, 1, 1, 1]]])\n",
        "\n",
        "v = [[[1, 0, 0, 0, 1],\n",
        "     [1, 0, 0, 0, 1],\n",
        "     [1, 0, 0, 0, 1],\n",
        "     [0, 1, 0, 1, 0],\n",
        "     [0, 0, 1, 0, 0]]]\n",
        "\n",
        "e= [[[1, 1, 1, 1, 1],\n",
        "     [1, 0, 0, 0, 0],\n",
        "     [1, 1, 1, 1, 1],\n",
        "     [1, 0, 0, 0, 0],\n",
        "     [1, 1, 1, 1, 1]]]"
      ],
      "metadata": {
        "id": "4yOftZRXn38K"
      },
      "execution_count": 11,
      "outputs": []
    },
    {
      "cell_type": "code",
      "source": [
        "net(X.view(-1,1,5,5)).max(dim=1)"
      ],
      "metadata": {
        "colab": {
          "base_uri": "https://localhost:8080/"
        },
        "id": "O_LrW9EdtUzT",
        "outputId": "946ab9f2-0e9c-4df9-89c3-4f1159a2f79d"
      },
      "execution_count": 12,
      "outputs": [
        {
          "output_type": "execute_result",
          "data": {
            "text/plain": [
              "torch.return_types.max(\n",
              "values=tensor([12.5958,  1.8214,  2.9886, 16.0223], grad_fn=<MaxBackward0>),\n",
              "indices=tensor([0, 1, 2, 3]))"
            ]
          },
          "metadata": {},
          "execution_count": 12
        }
      ]
    },
    {
      "cell_type": "code",
      "source": [
        "classes[net(o.view(-1,1,5,5)).max(dim=1).indices.item()]"
      ],
      "metadata": {
        "colab": {
          "base_uri": "https://localhost:8080/",
          "height": 36
        },
        "id": "m0aJYz_GtXuQ",
        "outputId": "468c406b-7d85-4518-fdb5-cc12cb03f22a"
      },
      "execution_count": 13,
      "outputs": [
        {
          "output_type": "execute_result",
          "data": {
            "text/plain": [
              "'O'"
            ],
            "application/vnd.google.colaboratory.intrinsic+json": {
              "type": "string"
            }
          },
          "metadata": {},
          "execution_count": 13
        }
      ]
    },
    {
      "cell_type": "code",
      "source": [
        "from typing import List\n",
        "\n",
        "def accuracy (X:List,y:int)->float:\n",
        "    \"\"\"入力データをもとに正解率を戻す\n",
        "    \"\"\"\n",
        "    return (net(X.view(-1,1,5,5)).max(dim=1).indices==y).sum().item()/len(y)\n"
      ],
      "metadata": {
        "id": "x_9f7MM-uJ8K"
      },
      "execution_count": 14,
      "outputs": []
    },
    {
      "cell_type": "code",
      "source": [
        "accuracy(X,y)"
      ],
      "metadata": {
        "colab": {
          "base_uri": "https://localhost:8080/"
        },
        "id": "KNhJp19VypxG",
        "outputId": "eaaf36f8-204a-4806-9149-234acf4684c6"
      },
      "execution_count": 15,
      "outputs": [
        {
          "output_type": "execute_result",
          "data": {
            "text/plain": [
              "1.0"
            ]
          },
          "metadata": {},
          "execution_count": 15
        }
      ]
    },
    {
      "cell_type": "markdown",
      "source": [
        "## Fashion MNIST"
      ],
      "metadata": {
        "id": "-0lGjTbw2fOm"
      }
    },
    {
      "cell_type": "markdown",
      "source": [
        "### データの前処理"
      ],
      "metadata": {
        "id": "VlAfiHeT2lij"
      }
    },
    {
      "cell_type": "code",
      "source": [
        "from torchvision.datasets import FashionMNIST\n",
        "from torch.utils.data import DataLoader"
      ],
      "metadata": {
        "id": "t0Yr07kSy3Lj"
      },
      "execution_count": 16,
      "outputs": []
    },
    {
      "cell_type": "code",
      "source": [
        "from torchvision import transforms"
      ],
      "metadata": {
        "id": "s2L5_Ces3u43"
      },
      "execution_count": 17,
      "outputs": []
    },
    {
      "cell_type": "code",
      "source": [
        "fashion_mnist_train = FashionMNIST(root=\"./data\",train=True,download=True,transform=transforms.ToTensor())\n",
        "fashion_mnist_test = FashionMNIST(root=\"./data\",train=False,download=True,transform=transforms.ToTensor())"
      ],
      "metadata": {
        "colab": {
          "base_uri": "https://localhost:8080/"
        },
        "id": "NARURrA836D6",
        "outputId": "c271e2a7-49fa-4ce3-9604-180c5960d806"
      },
      "execution_count": 18,
      "outputs": [
        {
          "output_type": "stream",
          "name": "stdout",
          "text": [
            "Downloading http://fashion-mnist.s3-website.eu-central-1.amazonaws.com/train-images-idx3-ubyte.gz\n",
            "Downloading http://fashion-mnist.s3-website.eu-central-1.amazonaws.com/train-images-idx3-ubyte.gz to ./data/FashionMNIST/raw/train-images-idx3-ubyte.gz\n"
          ]
        },
        {
          "output_type": "stream",
          "name": "stderr",
          "text": [
            "100%|██████████| 26421880/26421880 [00:02<00:00, 11856380.30it/s]\n"
          ]
        },
        {
          "output_type": "stream",
          "name": "stdout",
          "text": [
            "Extracting ./data/FashionMNIST/raw/train-images-idx3-ubyte.gz to ./data/FashionMNIST/raw\n",
            "\n",
            "Downloading http://fashion-mnist.s3-website.eu-central-1.amazonaws.com/train-labels-idx1-ubyte.gz\n",
            "Downloading http://fashion-mnist.s3-website.eu-central-1.amazonaws.com/train-labels-idx1-ubyte.gz to ./data/FashionMNIST/raw/train-labels-idx1-ubyte.gz\n"
          ]
        },
        {
          "output_type": "stream",
          "name": "stderr",
          "text": [
            "100%|██████████| 29515/29515 [00:00<00:00, 201380.90it/s]\n"
          ]
        },
        {
          "output_type": "stream",
          "name": "stdout",
          "text": [
            "Extracting ./data/FashionMNIST/raw/train-labels-idx1-ubyte.gz to ./data/FashionMNIST/raw\n",
            "\n",
            "Downloading http://fashion-mnist.s3-website.eu-central-1.amazonaws.com/t10k-images-idx3-ubyte.gz\n",
            "Downloading http://fashion-mnist.s3-website.eu-central-1.amazonaws.com/t10k-images-idx3-ubyte.gz to ./data/FashionMNIST/raw/t10k-images-idx3-ubyte.gz\n"
          ]
        },
        {
          "output_type": "stream",
          "name": "stderr",
          "text": [
            "100%|██████████| 4422102/4422102 [00:01<00:00, 3752574.55it/s]\n"
          ]
        },
        {
          "output_type": "stream",
          "name": "stdout",
          "text": [
            "Extracting ./data/FashionMNIST/raw/t10k-images-idx3-ubyte.gz to ./data/FashionMNIST/raw\n",
            "\n",
            "Downloading http://fashion-mnist.s3-website.eu-central-1.amazonaws.com/t10k-labels-idx1-ubyte.gz\n",
            "Downloading http://fashion-mnist.s3-website.eu-central-1.amazonaws.com/t10k-labels-idx1-ubyte.gz to ./data/FashionMNIST/raw/t10k-labels-idx1-ubyte.gz\n"
          ]
        },
        {
          "output_type": "stream",
          "name": "stderr",
          "text": [
            "100%|██████████| 5148/5148 [00:00<00:00, 18566016.33it/s]"
          ]
        },
        {
          "output_type": "stream",
          "name": "stdout",
          "text": [
            "Extracting ./data/FashionMNIST/raw/t10k-labels-idx1-ubyte.gz to ./data/FashionMNIST/raw\n",
            "\n"
          ]
        },
        {
          "output_type": "stream",
          "name": "stderr",
          "text": [
            "\n"
          ]
        }
      ]
    },
    {
      "cell_type": "code",
      "source": [
        "for i in range(10):\n",
        "    plt.subplot(1,10,i+1)\n",
        "    plt.imshow(fashion_mnist_train[i][0].view(28,28))\n",
        "    plt.title(fashion_mnist_train[i][1])\n",
        "    plt.axis(\"off\")\n",
        "plt.show()"
      ],
      "metadata": {
        "colab": {
          "base_uri": "https://localhost:8080/",
          "height": 101
        },
        "id": "2kYMbbq036BR",
        "outputId": "b8e0434a-7579-48d8-92f7-05fce8d004ab"
      },
      "execution_count": 19,
      "outputs": [
        {
          "output_type": "display_data",
          "data": {
            "text/plain": [
              "<Figure size 640x480 with 10 Axes>"
            ],
            "image/png": "[encoded data removed]"
          },
          "metadata": {}
        }
      ]
    },
    {
      "cell_type": "markdown",
      "source": [],
      "metadata": {
        "id": "p25k12_p655C"
      }
    },
    {
      "cell_type": "code",
      "source": [
        "print(f\"fashion_mnist train sample : {len(fashion_mnist_train)}\")\n",
        "print(f\"fashion_mnist test sample : {len(fashion_mnist_test)}\")"
      ],
      "metadata": {
        "colab": {
          "base_uri": "https://localhost:8080/"
        },
        "id": "d-CI3E3q358k",
        "outputId": "161c5fa0-40f0-4849-e8c5-f4f5819a4140"
      },
      "execution_count": 20,
      "outputs": [
        {
          "output_type": "stream",
          "name": "stdout",
          "text": [
            "fashion_mnist train sample : 60000\n",
            "fashion_mnist test sample : 10000\n"
          ]
        }
      ]
    },
    {
      "cell_type": "markdown",
      "source": [],
      "metadata": {
        "id": "-iGEeyWPMpR6"
      }
    },
    {
      "cell_type": "code",
      "source": [
        "# train_size = int(len(fashion_mnist_train) * 0.8)\n",
        "# val_size = len(fashion_mnist_train) - train_size"
      ],
      "metadata": {
        "id": "8n1OxJUT35yr"
      },
      "execution_count": 21,
      "outputs": []
    },
    {
      "cell_type": "code",
      "source": [
        "# train_dataset,val_dataset = torch.utils.data.random_split(fashion_mnist_train,[train_size,val_size])"
      ],
      "metadata": {
        "id": "cGLDlO4e7vDP"
      },
      "execution_count": 22,
      "outputs": []
    },
    {
      "cell_type": "code",
      "source": [
        "train_loader = DataLoader(fashion_mnist_train,batch_size=128,shuffle=True)\n",
        "test_loader = DataLoader(fashion_mnist_test,batch_size=64,shuffle=True)"
      ],
      "metadata": {
        "id": "ZjF21VpX-LeD"
      },
      "execution_count": 23,
      "outputs": []
    },
    {
      "cell_type": "markdown",
      "source": [
        "### モデルの構築"
      ],
      "metadata": {
        "id": "cnT6Wv9h2rrz"
      }
    },
    {
      "cell_type": "code",
      "source": [
        "class CNN(nn.Module):\n",
        "    def __init__(self):\n",
        "        super().__init__()\n",
        "        self.conv_layers = nn.Sequential(\n",
        "            nn.Conv2d(1,16,5,1,0),\n",
        "            nn.ReLU(inplace=True),\n",
        "            nn.BatchNorm2d(16),\n",
        "            nn.MaxPool2d(2,2),\n",
        "            nn.Conv2d(16,32,5,1,0),\n",
        "            nn.Conv2d(32,64,5,1,0),\n",
        "            nn.ReLU(inplace=True),\n",
        "            nn.BatchNorm2d(64),\n",
        "            # nn.MaxPool2d(2,2)\n",
        "            )\n",
        "        self.fc_layers = nn.Sequential(\n",
        "            nn.Linear(1024,256),\n",
        "            nn.Dropout(0.2),\n",
        "            nn.Linear(256,128),\n",
        "            nn.Dropout(0.2),\n",
        "            nn.Linear(128,10)\n",
        "        )\n",
        "    def forward(self,x):\n",
        "        x = self.conv_layers(x)\n",
        "        x = x.view(x.size(0),-1)\n",
        "        x = self.fc_layers(x)\n",
        "        return x"
      ],
      "metadata": {
        "id": "RRPBn-152wPR"
      },
      "execution_count": 24,
      "outputs": []
    },
    {
      "cell_type": "code",
      "source": [
        "fake_data = torch.FloatTensor(8,1,28,28)\n",
        "net = CNN()\n",
        "net(fake_data).shape"
      ],
      "metadata": {
        "colab": {
          "base_uri": "https://localhost:8080/"
        },
        "id": "i1Q7kFUrMwkx",
        "outputId": "6be2a14e-b7ee-4755-b147-a8c31d3efb27"
      },
      "execution_count": 25,
      "outputs": [
        {
          "output_type": "execute_result",
          "data": {
            "text/plain": [
              "torch.Size([8, 10])"
            ]
          },
          "metadata": {},
          "execution_count": 25
        }
      ]
    },
    {
      "cell_type": "markdown",
      "source": [
        "### モデルの訓練"
      ],
      "metadata": {
        "id": "nug6mbGc2xBD"
      }
    },
    {
      "cell_type": "code",
      "source": [
        "device = torch.device(\"cuda:0\" if torch.cuda.is_available() else \"cpu\")\n",
        "print(device)"
      ],
      "metadata": {
        "colab": {
          "base_uri": "https://localhost:8080/"
        },
        "id": "u_5rFA0gQf_K",
        "outputId": "1524b31c-75ad-4cf2-b569-41563f0e5876"
      },
      "execution_count": 26,
      "outputs": [
        {
          "output_type": "stream",
          "name": "stdout",
          "text": [
            "cuda:0\n"
          ]
        }
      ]
    },
    {
      "cell_type": "code",
      "source": [
        "net = CNN().to(device)"
      ],
      "metadata": {
        "id": "szNfQWnC2632"
      },
      "execution_count": 27,
      "outputs": []
    },
    {
      "cell_type": "code",
      "source": [
        "import torch.optim as optim\n",
        "loss_func = nn.CrossEntropyLoss()\n",
        "optimizer = optim.Adam(net.parameters(),lr=0.01)\n",
        "max_epochs = 20"
      ],
      "metadata": {
        "id": "fJGMv3QK3BMe"
      },
      "execution_count": 28,
      "outputs": []
    },
    {
      "cell_type": "code",
      "source": [],
      "metadata": {
        "id": "z45Ux7ULQx0v"
      },
      "execution_count": 28,
      "outputs": []
    },
    {
      "cell_type": "code",
      "source": [
        "import time\n",
        "\n",
        "# リストの初期化\n",
        "train_loss_list = []\n",
        "train_acc_list = []\n",
        "val_loss_list = []\n",
        "val_acc_list = []\n",
        "\n",
        "start = time.time()\n",
        "\n",
        "for epoch in range(max_epochs):\n",
        "    net.train()\n",
        "    train_loss = 0\n",
        "    train_acc = 0\n",
        "\n",
        "    for i, (X, y) in enumerate(train_loader):\n",
        "        X, y = X.to(device), y.to(device)\n",
        "        optimizer.zero_grad()\n",
        "        output = net(X)\n",
        "        loss = loss_func(output, y)\n",
        "        loss.backward()\n",
        "        optimizer.step()\n",
        "\n",
        "        train_loss += loss.item()\n",
        "        train_acc += (output.max(dim=1)[1] == y).sum().item()\n",
        "\n",
        "    # エポックごとの平均損失と精度を計算\n",
        "    avg_train_loss = train_loss / len(train_loader.dataset)\n",
        "    avg_train_acc = train_acc / len(train_loader.dataset)\n",
        "    train_loss_list.append(avg_train_loss)\n",
        "    train_acc_list.append(avg_train_acc)\n",
        "\n",
        "    net.eval()\n",
        "    val_loss = 0\n",
        "    val_acc = 0\n",
        "\n",
        "    with torch.no_grad():\n",
        "        for X, y in test_loader:\n",
        "            X, y = X.to(device), y.to(device)\n",
        "            output = net(X)\n",
        "            loss = loss_func(output, y)\n",
        "            val_loss += loss.item()\n",
        "            val_acc += (output.max(dim=1)[1] == y).sum().item()\n",
        "\n",
        "    # 検証データに対する平均損失と精度を計算\n",
        "    avg_val_loss = val_loss / len(test_loader.dataset)\n",
        "    avg_val_acc = val_acc / len(test_loader.dataset)\n",
        "    val_loss_list.append(avg_val_loss)\n",
        "    val_acc_list.append(avg_val_acc)\n",
        "\n",
        "    end = time.time() - start\n",
        "    print(f\"{epoch+1}/{max_epochs}============================================================\")\n",
        "    print(f\" train_loss:{avg_train_loss:.4f}, val_loss:{avg_val_loss:.4f}\")\n",
        "    print(f\" train_acc:{avg_train_acc:.4f}, val_acc:{avg_val_acc:.4f}\")\n",
        "    print(f\"time : {end:.2f} sec\")\n"
      ],
      "metadata": {
        "colab": {
          "base_uri": "https://localhost:8080/"
        },
        "id": "qPJmjQMnCjw2",
        "outputId": "5c54863c-8bcc-4430-9c77-ca676b4a0946"
      },
      "execution_count": 30,
      "outputs": [
        {
          "output_type": "stream",
          "name": "stdout",
          "text": [
            "1/20============================================================\n",
            " train_loss:0.0058, val_loss:0.0185\n",
            " train_acc:0.8217, val_acc:0.6395\n",
            "time : 10.13 sec\n",
            "2/20============================================================\n",
            " train_loss:0.0035, val_loss:0.0066\n",
            " train_acc:0.8435, val_acc:0.8449\n",
            "time : 19.86 sec\n",
            "3/20============================================================\n",
            " train_loss:0.0030, val_loss:0.0059\n",
            " train_acc:0.8632, val_acc:0.8660\n",
            "time : 29.65 sec\n",
            "4/20============================================================\n",
            " train_loss:0.0028, val_loss:0.0069\n",
            " train_acc:0.8710, val_acc:0.8612\n",
            "time : 39.42 sec\n",
            "5/20============================================================\n",
            " train_loss:0.0028, val_loss:0.0061\n",
            " train_acc:0.8745, val_acc:0.8634\n",
            "time : 49.18 sec\n",
            "6/20============================================================\n",
            " train_loss:0.0029, val_loss:0.0081\n",
            " train_acc:0.8688, val_acc:0.8247\n",
            "time : 58.31 sec\n",
            "7/20============================================================\n",
            " train_loss:0.0028, val_loss:0.0056\n",
            " train_acc:0.8733, val_acc:0.8752\n",
            "time : 68.09 sec\n",
            "8/20============================================================\n",
            " train_loss:0.0028, val_loss:0.0065\n",
            " train_acc:0.8746, val_acc:0.8552\n",
            "time : 77.87 sec\n",
            "9/20============================================================\n",
            " train_loss:0.0029, val_loss:0.0065\n",
            " train_acc:0.8735, val_acc:0.8597\n",
            "time : 87.63 sec\n",
            "10/20============================================================\n",
            " train_loss:0.0028, val_loss:0.0066\n",
            " train_acc:0.8739, val_acc:0.8643\n",
            "time : 97.24 sec\n",
            "11/20============================================================\n",
            " train_loss:0.0029, val_loss:0.0063\n",
            " train_acc:0.8751, val_acc:0.8705\n",
            "time : 106.55 sec\n",
            "12/20============================================================\n",
            " train_loss:0.0028, val_loss:0.0066\n",
            " train_acc:0.8769, val_acc:0.8579\n",
            "time : 118.43 sec\n",
            "13/20============================================================\n",
            " train_loss:0.0028, val_loss:0.0060\n",
            " train_acc:0.8778, val_acc:0.8668\n",
            "time : 128.19 sec\n",
            "14/20============================================================\n",
            " train_loss:0.0027, val_loss:0.0056\n",
            " train_acc:0.8821, val_acc:0.8769\n",
            "time : 137.98 sec\n",
            "15/20============================================================\n",
            " train_loss:0.0027, val_loss:0.0063\n",
            " train_acc:0.8808, val_acc:0.8619\n",
            "time : 147.81 sec\n",
            "16/20============================================================\n",
            " train_loss:0.0026, val_loss:0.0064\n",
            " train_acc:0.8831, val_acc:0.8730\n",
            "time : 157.29 sec\n",
            "17/20============================================================\n",
            " train_loss:0.0027, val_loss:0.0069\n",
            " train_acc:0.8834, val_acc:0.8671\n",
            "time : 167.17 sec\n",
            "18/20============================================================\n",
            " train_loss:0.0026, val_loss:0.0059\n",
            " train_acc:0.8845, val_acc:0.8726\n",
            "time : 176.93 sec\n",
            "19/20============================================================\n",
            " train_loss:0.0026, val_loss:0.0062\n",
            " train_acc:0.8857, val_acc:0.8587\n",
            "time : 186.64 sec\n",
            "20/20============================================================\n",
            " train_loss:0.0026, val_loss:0.0062\n",
            " train_acc:0.8854, val_acc:0.8704\n",
            "time : 199.29 sec\n"
          ]
        }
      ]
    },
    {
      "cell_type": "code",
      "source": [
        "plt.plot(train_loss_list)"
      ],
      "metadata": {
        "id": "u4O-lXUtVMTO"
      },
      "execution_count": null,
      "outputs": []
    },
    {
      "cell_type": "markdown",
      "source": [
        "### モデルの評価"
      ],
      "metadata": {
        "id": "jUNnQBck2w84"
      }
    },
    {
      "cell_type": "code",
      "source": [
        "plt.plot(train_loss_list,label=\"train\")\n",
        "plt.plot(val_loss_list,label=\"val\")\n",
        "plt.plot(train_acc_list,label=\"train_acc\")\n",
        "plt.plot(val_acc_list,label=\"val_acc\")\n",
        "plt.legend()\n",
        "plt.show()"
      ],
      "metadata": {
        "colab": {
          "base_uri": "https://localhost:8080/",
          "height": 430
        },
        "id": "LSSn_wtYZi6U",
        "outputId": "c53b181d-8591-476a-f557-10bcde7b196a"
      },
      "execution_count": 33,
      "outputs": [
        {
          "output_type": "display_data",
          "data": {
            "text/plain": [
              "<Figure size 640x480 with 1 Axes>"
            ],
            "image/png": "[encoded data removed]"
          },
          "metadata": {}
        }
      ]
    },
    {
      "cell_type": "code",
      "source": [
        "plt.plot(losses)"
      ],
      "metadata": {
        "id": "KoKchj0_24_o"
      },
      "execution_count": null,
      "outputs": []
    },
    {
      "cell_type": "code",
      "source": [],
      "metadata": {
        "id": "FBmpitTxJutZ"
      },
      "execution_count": null,
      "outputs": []
    }
  ]
}